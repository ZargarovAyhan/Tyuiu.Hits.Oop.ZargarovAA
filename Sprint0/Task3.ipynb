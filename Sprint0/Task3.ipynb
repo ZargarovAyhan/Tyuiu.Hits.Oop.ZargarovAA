{
 "cells": [
  {
   "cell_type": "markdown",
   "metadata": {},
   "source": [
    "<h1 style=\"color:DodgerBlue\">Индивидальный проект</h1>"
   ]
  },
  {
   "cell_type": "markdown",
   "metadata": {},
   "source": [
    "<h2 style=\"color:DodgerBlue\">Название проекта:</h2>\n",
    "\n",
    "----\n",
    "\n",
    "### Вариант задания \n"
   ]
  },
  {
   "cell_type": "markdown",
   "metadata": {},
   "source": [
    "<h2 style=\"color:DodgerBlue\">Описание проекта:</h2>\n",
    "\n",
    "----\n",
    "\n",
    "[ваш текст]\n"
   ]
  },
  {
   "cell_type": "markdown",
   "metadata": {},
   "source": [
    "<h2 style=\"color:DodgerBlue\">Реализация:</h2>\n",
    "\n",
    "----"
   ]
  },
  {
   "cell_type": "code",
   "execution_count": 2,
   "metadata": {
    "dotnet_interactive": {
     "language": "csharp"
    },
    "polyglot_notebook": {
     "kernelName": "csharp"
    }
   },
   "outputs": [],
   "source": []
  },
  {
   "cell_type": "code",
   "execution_count": 4,
   "metadata": {},
   "outputs": [
    {
     "name": "stdout",
     "output_type": "stream",
     "text": [
      "Номер счета: 1234567890\n",
      "Текущий баланс: 1000\n",
      "Пополнен счет 1234567890 на сумму 500. Текущий баланс: 1500\n",
      "Списано со счета 1234567890 сумма 200. Текущий баланс: 1300\n",
      "Номер счета: 1234567890\n",
      "Текущий баланс: 1300\n"
     ]
    }
   ],
   "source": [
    "public interface IBankAccount\n",
    "{\n",
    "    void GetInfo(); \n",
    "}\n",
    "\n",
    "public interface IDeposit\n",
    "{\n",
    "    void Deposit(decimal amount);\n",
    "}\n",
    "\n",
    "public interface IWithdraw\n",
    "{\n",
    "    void Withdraw(decimal amount);\n",
    "}\n",
    "\n",
    "class BankAccount : IBankAccount, IDeposit, IWithdraw\n",
    "{\n",
    "    private string _accountNumber;\n",
    "    private decimal _balance;\n",
    "\n",
    "    public BankAccount(string accountNumber, decimal initialBalance)\n",
    "    {\n",
    "        _accountNumber = accountNumber;\n",
    "        _balance = initialBalance;\n",
    "    }\n",
    "\n",
    "    public void GetInfo()\n",
    "    {\n",
    "        Console.WriteLine($\"Номер счета: {_accountNumber}\");\n",
    "        Console.WriteLine($\"Текущий баланс: {_balance}\");\n",
    "    }\n",
    "\n",
    "    public void Deposit(decimal amount)\n",
    "    {\n",
    "        if (amount > 0)\n",
    "        {\n",
    "            _balance += amount;\n",
    "            Console.WriteLine($\"Пополнен счет {_accountNumber} на сумму {amount}. Текущий баланс: {_balance}\");\n",
    "        }\n",
    "        else\n",
    "        {\n",
    "            Console.WriteLine(\"Сумма пополнения должна быть больше 0.\");\n",
    "        }\n",
    "    }\n",
    "\n",
    "    public void Withdraw(decimal amount)\n",
    "    {\n",
    "        if (amount > 0 && amount <= _balance)\n",
    "        {\n",
    "            _balance -= amount;\n",
    "            Console.WriteLine($\"Списано со счета {_accountNumber} сумма {amount}. Текущий баланс: {_balance}\");\n",
    "        }\n",
    "        else if (amount <= 0)\n",
    "        {\n",
    "            Console.WriteLine(\"Сумма снятия должна быть больше 0.\");\n",
    "        }\n",
    "        else\n",
    "        {\n",
    "            Console.WriteLine(\"Недостаточно средств на счете.\");\n",
    "        }\n",
    "    }\n",
    "}\n",
    "\n",
    "//Пример использования\n",
    "BankAccount myAccount = new BankAccount(\"1234567890\", 1000);\n",
    "myAccount.GetInfo();\n",
    "\n",
    "myAccount.Deposit(500);\n",
    "myAccount.Withdraw(200);\n",
    "\n",
    "myAccount.GetInfo(); \n"
   ]
  }
 ],
 "metadata": {
  "kernelspec": {
   "display_name": ".NET (C#)",
   "language": "C#",
   "name": ".net-csharp"
  },
  "polyglot_notebook": {
   "kernelInfo": {
    "defaultKernelName": "csharp",
    "items": [
     {
      "aliases": [],
      "languageName": "csharp",
      "name": "csharp"
     }
    ]
   }
  }
 },
 "nbformat": 4,
 "nbformat_minor": 2
}
