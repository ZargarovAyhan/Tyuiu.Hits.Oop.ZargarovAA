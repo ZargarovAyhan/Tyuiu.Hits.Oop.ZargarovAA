{
 "cells": [
  {
   "cell_type": "markdown",
   "metadata": {},
   "source": [
    "<h1 style=\"color:DodgerBlue\">Создание экземпляров классов (объектов) и взаимодействие объектов между собой</h1>"
   ]
  },
  {
   "cell_type": "markdown",
   "metadata": {},
   "source": [
    "### Создание экземпляров классов (объектов)\n",
    "\n",
    "В C#, экземпляр класса создается с помощью оператора `new`, который выделяет память для нового объекта и вызывает конструктор класса для инициализации этого объекта. Конструктор — это специальный метод в классе, который имеет то же имя, что и класс, и используется для установки начального состояния объекта.\n",
    "\n",
    "#### Пример создания экземпляров классов Vehicle и Car\n",
    "\n",
    "```csharp\n",
    "Vehicle myVehicle = new Vehicle();\n",
    "Car myCar = new Car();\n",
    "```\n",
    "\n",
    "В этом примере создаются два объекта: один для класса `Vehicle` и другой для класса `Car`. Конструкторы этих классов будут автоматически вызваны при создании объектов.\n",
    "\n",
    "### Взаимодействие объектов между Собой\n",
    "\n",
    "Взаимодействие объектов между собой означает, что один объект может вызывать методы другого объекта или обращаться к его свойствам (если они доступны). Это позволяет объектам обмениваться информацией и координировать свои действия.\n",
    "\n",
    "#### Пример взаимодействия объектов\n",
    "\n",
    "```csharp\n",
    "myVehicle.Color = \"Red\";\n",
    "myVehicle.Speed = 60;\n",
    "\n",
    "myCar.Color = \"Blue\";\n",
    "myCar.FuelLevel = 100;\n",
    "myCar.Refuel(50); // Увеличиваем уровень топлива на 50\n",
    "```\n",
    "\n",
    "В этом примере мы устанавливаем свойства `Color` и `Speed` для объекта `myVehicle`, а также свойства `Color` и `FuelLevel` для объекта `myCar`. Затем мы вызываем метод `Refuel` у объекта `myCar`, чтобы увеличить его уровень топлива.\n",
    "\n",
    "### Закрепление правил использования модификаторов доступа\n",
    "\n",
    "Модификаторы доступа определяют уровень доступности членов класса из других частей кода. Важно правильно использовать модификаторы доступа для обеспечения безопасности и инкапсуляции данных.\n",
    "\n",
    "#### Примеры модификаторов доступа в классах Vehicle и Car\n",
    "\n",
    "```csharp\n",
    "public class Vehicle\n",
    "{\n",
    "    public string Color { get; set; } // public свойство\n",
    "    private int speed; // private поле\n",
    "\n",
    "    protected void SetSpeed(int value) // protected метод\n",
    "    {\n",
    "        speed = value;\n",
    "    }\n",
    "}\n",
    "\n",
    "public class Car : Vehicle\n",
    "{\n",
    "    private int fuelLevel; // private поле\n",
    "\n",
    "    public void Refuel(int amount) // public метод\n",
    "    {\n",
    "        fuelLevel += amount;\n",
    "    }\n",
    "\n",
    "    protected void CheckSpeedLimit() // protected метод\n",
    "    {\n",
    "        if (speed > 120)\n",
    "        {\n",
    "            Console.WriteLine(\"Превышен скоростной режим!\");\n",
    "        }\n",
    "    }\n",
    "}\n",
    "```\n",
    "\n",
    "В этом примере:\n",
    "- Свойство `Color` в классе `Vehicle` объявлено как `public`, что позволяет доступ к нему из любого места в коде.\n",
    "- Поле `speed` в классе `Vehicle` объявлено как `private`, что ограничивает доступ к нему только внутри класса `Vehicle`.\n",
    "- Метод `SetSpeed` в классе `Vehicle` объявлен как `protected`, что позволяет доступ к нему из класса `Vehicle` и его производных классов.\n",
    "- Поле `fuelLevel` в классе `Car` объявлено как `private`, ограничивая доступ к нему только внутри класса `Car`.\n",
    "- Методы `Refuel` и `CheckSpeedLimit` в классе `Car` демонстрируют использование модификаторов доступа для контроля над тем, как объекты могут взаимодействовать друг с другом.\n",
    "\n",
    "### Заключение\n",
    "\n",
    "Создание экземпляров классов и взаимодействие между объектами являются ключевыми аспектами объектно-ориентированного программирования в C#. Правильное использование модификаторов доступа обеспечивает безопасность данных и инкапсуляцию, позволяя разработчикам создавать более надежные и управляемые программы."
   ]
  },
  {
   "cell_type": "markdown",
   "metadata": {},
   "source": [
    "<h4 style=\"color:DodgerBlue\">Для проверки напишите пример кода на основе классов Car и Vehicle ниже в блоке:</h4>\n",
    "\n",
    "----"
   ]
  },
  {
   "cell_type": "code",
   "execution_count": null,
   "metadata": {
    "dotnet_interactive": {
     "language": "csharp"
    },
    "polyglot_notebook": {
     "kernelName": "csharp"
    }
   },
   "outputs": [],
   "source": [
    "class BankAccount //класс банковские счета\n",
    "{\n",
    "    public decimal Balance { get; set; } //публичное свойство с get и set\n",
    "    public virtual void Deposit(decimal amount) => Balance += amount;  //внести деньги на счет\n",
    "    public virtual void Withdraw(decimal amount) => Balance -= amount; //снять деньги\n",
    "    public virtual void GetInfo() => Console.WriteLine($\"Balance: {Balance:C}\"); //показать информацию баланс\n",
    "}"
   ]
  },
  {
   "cell_type": "markdown",
   "metadata": {},
   "source": [
    "<h4 style=\"color:Red\">Задание:</h4>\n",
    "\n",
    "----\n",
    "\n",
    "Ниже в блоке по примеру создайте базовый класс Animal и производные классы (2-3 например Dog, Cat и так далее) реализуйте структуру и объявление класса, включая свойства, геттеры и сеттеры, а также статические и обычными атрибуты и метода класса с реализацией взаимодействия между объектами."
   ]
  },
  {
   "cell_type": "code",
   "execution_count": 4,
   "metadata": {
    "dotnet_interactive": {
     "language": "csharp"
    },
    "polyglot_notebook": {
     "kernelName": "csharp"
    }
   },
   "outputs": [],
   "source": [
    "using System;\n",
    "\n",
    "// Интерфейс IAnimal\n",
    "public interface IAnimal\n",
    "{\n",
    "    void Eat();  // Метод для кушания\n",
    "}\n",
    "\n",
    "// Базовый класс Animal\n",
    "public class Animal : IAnimal\n",
    "{\n",
    "    private string name;  // Имя животного\n",
    "    protected int age;    // Возраст животного\n",
    "    public string Color { get; protected set; }  // Цвет животного\n",
    "    public static int AnimalCount { get; private set; } = 0;\n",
    "\n",
    "    public Animal(string name, int age, string color)\n",
    "    {\n",
    "        this.name = name;\n",
    "        this.age = age;\n",
    "        this.Color = color;\n",
    "        AnimalCount++;\n",
    "    }\n",
    "\n",
    "    public void Eat()  // Метод для кушания\n",
    "    {\n",
    "        Console.WriteLine($\"{name} кушает.\");\n",
    "    }\n",
    "\n",
    "    public string Info => $\"{name}, возраст: {age} лет, цвет: {Color}.\";\n",
    "}\n",
    "\n",
    "// Подкласс Ferret (Хорек)\n",
    "public class Ferret : Animal\n",
    "{\n",
    "    public Ferret(string name, int age) : base(name, age, \"коричневый\")\n",
    "    {\n",
    "    }\n",
    "}\n",
    "\n",
    "// Подкласс RedPanda (Красная панда)\n",
    "public class RedPanda : Animal\n",
    "{\n",
    "    public RedPanda(string name, int age) : base(name, age, \"рыжий\")\n",
    "    {\n",
    "    }\n",
    "}\n",
    "\n",
    "Ferret horek = new Ferret(\"Хорек\", 2);\n",
    "horek.Eat();\n",
    "Console.WriteLine(horek.Info);\n",
    "\n",
    "RedPanda redPanda1 = new RedPanda(\"Красная панда Рофлан\", 5);\n",
    "redPanda1.Eat();\n",
    "Console.WriteLine(redPanda1.Info);\n",
    "\n",
    "RedPanda redPanda2 = new RedPanda(\"Красная панда Собино\", 3);\n",
    "redPanda2.Eat();\n",
    "Console.WriteLine(redPanda2.Info);\n",
    "\n",
    "Console.WriteLine($\"Всего в зоопарке животных: {Animal.AnimalCount}\");\n"
   ]
  }
 ],
 "metadata": {
  "kernelspec": {
   "display_name": ".NET (C#)",
   "language": "C#",
   "name": ".net-csharp"
  },
  "polyglot_notebook": {
   "kernelInfo": {
    "defaultKernelName": "csharp",
    "items": [
     {
      "aliases": [],
      "languageName": "csharp",
      "name": "csharp"
     }
    ]
   }
  }
 },
 "nbformat": 4,
 "nbformat_minor": 2
}
