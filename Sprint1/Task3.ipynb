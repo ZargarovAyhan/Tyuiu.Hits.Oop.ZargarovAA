{
 "cells": [
  {
   "cell_type": "markdown",
   "metadata": {},
   "source": [
    "<h1 style=\"color:DodgerBlue\">Индивидальный проект</h1>"
   ]
  },
  {
   "cell_type": "markdown",
   "metadata": {},
   "source": [
    "<h2 style=\"color:DodgerBlue\">Название проекта:</h2>\n",
    "\n",
    "----\n",
    "\n",
    "### Вариант задания \n"
   ]
  },
  {
   "cell_type": "markdown",
   "metadata": {},
   "source": [
    "<h2 style=\"color:DodgerBlue\">Описание проекта:</h2>\n",
    "\n",
    "----\n",
    "\n",
    "[ваш текст]\n",
    "\n",
    "#### Дополнительное задание\n",
    "Добавьте к сущестующим классам конструктора классов с использованием гетторов и сетторов и реализуйте взаимодействие объектов между собой"
   ]
  },
  {
   "cell_type": "markdown",
   "metadata": {},
   "source": [
    "<h2 style=\"color:DodgerBlue\">Реализация:</h2>\n",
    "\n",
    "----"
   ]
  },
  {
   "cell_type": "code",
   "execution_count": 1,
   "metadata": {
    "dotnet_interactive": {
     "language": "csharp"
    },
    "polyglot_notebook": {
     "kernelName": "csharp"
    }
   },
   "outputs": [
    {
     "name": "stdout",
     "output_type": "stream",
     "text": [
      "Сберегательный счет:\n",
      "Баланс сберегательного счета: ¤1,210.00, Процентная ставка: 5.000%\n",
      "Текущий счет:\n",
      "Проверка баланса аккаунта : ¤450.00, Лимит овердрафта: ¤100.00\n",
      "Инвестиционный счет:\n",
      "Инвест аккаунт: ¤3,000.00, Активы: Акция A, Облигация B\n"
     ]
    }
   ],
   "source": [
    "// public: Модификатор доступа. Он указывает, что этот метод доступен для вызова из любого другого кода, который имеет доступ к этому классу.\n",
    "// override: Ключевое слово, которое означает, что данный метод переопределяет метод с тем же именем и сигнатурой из базового класса. Это позволяет изменить поведение унаследованного метода.\n",
    "// void: Тип возвращаемого значения. В данном случае void означает, что метод не возвращает никакого значения.\n",
    "// Deposit: Имя метода. В данном случае Deposit — это метод, который, как предполагается, обрабатывает внесение денег на счёт.\n",
    "// (decimal amount): Параметры метода. В данном случае метод принимает один параметр типа decimal, который представляет собой сумму денег, которую нужно внести на счёт.\n",
    "\n",
    "\n",
    "// class BankAccount\n",
    "// {\n",
    "//     public decimal Balance;\n",
    "\n",
    "//     public virtual void Deposit(decimal amount)\n",
    "//     {\n",
    "//         Balance += amount;  // Добавляем сумму к балансу\n",
    "//     }\n",
    "\n",
    "//     public virtual void Withdraw(decimal amount)\n",
    "//     {\n",
    "//         Balance -= amount;  // Уменьшаем баланс на указанную сумму\n",
    "//     }\n",
    "// }\n",
    "\n",
    "class BankAccount //класс банковские счета\n",
    "{\n",
    "    public decimal Balance; //публичное поле десимал класса для хранения денег переменные для хранения значений\n",
    "    public virtual void Deposit(decimal amount) => Balance += amount;  //внести деньги на счет\n",
    "    public virtual void Withdraw(decimal amount) => Balance -= amount; //снять денбги \n",
    "    public virtual void GetInfo() => Console.WriteLine($\"Balance: {Balance:C}\"); //показать информацию баланс\n",
    "}\n",
    "\n",
    "class SavingsAccount : BankAccount //класс сберегнательный счет добавить банковский счет\n",
    "{\n",
    "    public decimal InterestRate; //процентная ставка (deciminal хранит тип данных с плавющей точкой)\n",
    "    public override void Deposit(decimal amount) => Balance += amount * (1 + InterestRate); \n",
    "    public override void GetInfo() => Console.WriteLine($\"Баланс сберегательного счета: {Balance:C}, Процентная ставка: {InterestRate:P}\"); //Balance:C - цифры в деньги 1500.75 в 1 500,75 $ а P - 0.05 в 5%\n",
    "}\n",
    "\n",
    "class CheckingAccount : BankAccount //класс проверки акк счет добавить банковский счет\n",
    "{\n",
    "    public decimal OverdraftLimit; //максимальная сумма, на которую можно списывать с банковского счёта больше денег (типо займ)\n",
    "    public override void Withdraw(decimal amount) => Balance -= (Balance + OverdraftLimit >= amount) ? amount  : 0; //проверяется ammount можно ли снять сумму с учетом баланса и лимита  Да = вернется фммоунт, нет - нуль\n",
    "    public override void GetInfo() => Console.WriteLine($\"Проверка баланса аккаунта : {Balance:C}, Лимит овердрафта: {OverdraftLimit:C}\");\n",
    "}\n",
    "\n",
    "class InvestmentAccount : BankAccount\n",
    "{\n",
    "    public List<string> Assets; //хранит различные активы в виде строк\n",
    "    public override void GetInfo() => Console.WriteLine($\"Инвест аккаунт: {Balance:C}, Активы: {string.Join(\", \", Assets)}\");\n",
    "}\n",
    "\n",
    "SavingsAccount savings = new SavingsAccount\n",
    "{\n",
    "    Balance = 1000, // Начальный баланс\n",
    "    InterestRate = 0.05m // Процентная ставка 5%\n",
    "};\n",
    "Console.WriteLine(\"Сберегательный счет:\");\n",
    "savings.Deposit(200); // Внесение денег с учетом процентной ставки\n",
    "savings.GetInfo(); // Вывод информации о сберегательном счете\n",
    "\n",
    "\n",
    "\n",
    "\n",
    "CheckingAccount checking = new CheckingAccount\n",
    "{\n",
    "    Balance = 500, // Начальный баланс\n",
    "    OverdraftLimit = 100 // Лимит овердрафта\n",
    "};\n",
    "Console.WriteLine(\"Текущий счет:\");\n",
    "checking.Withdraw(50); // Снятие денег с учетом лимита овердрафта\n",
    "checking.GetInfo(); // Вывод информации о текущем счете\n",
    "\n",
    "\n",
    "\n",
    "InvestmentAccount investment = new InvestmentAccount\n",
    "{\n",
    "    Balance = 3000, // Начальный баланс\n",
    "    Assets = new List<string> { \"Акция A\", \"Облигация B\" } // Активы\n",
    "};\n",
    "Console.WriteLine(\"Инвестиционный счет:\");\n",
    "investment.GetInfo(); // Вывод информации об инвестиционном счете"
   ]
  }
 ],
 "metadata": {
  "kernelspec": {
   "display_name": ".NET (C#)",
   "language": "C#",
   "name": ".net-csharp"
  },
  "polyglot_notebook": {
   "kernelInfo": {
    "defaultKernelName": "csharp",
    "items": [
     {
      "aliases": [],
      "languageName": "csharp",
      "name": "csharp"
     }
    ]
   }
  }
 },
 "nbformat": 4,
 "nbformat_minor": 2
}
