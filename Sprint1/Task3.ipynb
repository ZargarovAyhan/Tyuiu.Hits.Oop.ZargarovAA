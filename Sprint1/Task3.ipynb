{
 "cells": [
  {
   "cell_type": "markdown",
   "metadata": {},
   "source": [
    "<h1 style=\"color:DodgerBlue\">Индивидальный проект</h1>"
   ]
  },
  {
   "cell_type": "markdown",
   "metadata": {},
   "source": [
    "<h2 style=\"color:DodgerBlue\">Название проекта:</h2>\n",
    "\n",
    "----\n",
    "\n",
    "### Вариант задания \n"
   ]
  },
  {
   "cell_type": "markdown",
   "metadata": {},
   "source": [
    "<h2 style=\"color:DodgerBlue\">Описание проекта:</h2>\n",
    "\n",
    "----\n",
    "\n",
    "[ваш текст]\n",
    "\n",
    "#### Дополнительное задание\n",
    "Добавьте к сущестующим классам конструктора классов с использованием гетторов и сетторов и реализуйте взаимодействие объектов между собой"
   ]
  },
  {
   "cell_type": "markdown",
   "metadata": {},
   "source": [
    "<h2 style=\"color:DodgerBlue\">Реализация:</h2>\n",
    "\n",
    "----"
   ]
  },
  {
   "cell_type": "code",
   "execution_count": 1,
   "metadata": {
    "dotnet_interactive": {
     "language": "csharp"
    },
    "polyglot_notebook": {
     "kernelName": "csharp"
    }
   },
   "outputs": [],
   "source": [
    "// public: Модификатор доступа. Он указывает, что этот метод доступен для вызова из любого другого кода, который имеет доступ к этому классу.\n",
    "// override: Ключевое слово, которое означает, что данный метод переопределяет метод с тем же именем и сигнатурой из базового класса. Это позволяет изменить поведение унаследованного метода.\n",
    "// void: Тип возвращаемого значения. В данном случае void означает, что метод не возвращает никакого значения.\n",
    "// Deposit: Имя метода. В данном случае Deposit — это метод, который, как предполагается, обрабатывает внесение денег на счёт.\n",
    "// (decimal amount): Параметры метода. В данном случае метод принимает один параметр типа decimal, который представляет собой сумму денег, которую нужно внести на счёт.\n",
    "\n",
    "\n",
    "// class BankAccount\n",
    "// {\n",
    "//     public decimal Balance;\n",
    "\n",
    "//     public virtual void Deposit(decimal amount)\n",
    "//     {\n",
    "//         Balance += amount;  // Добавляем сумму к балансу\n",
    "//     }\n",
    "\n",
    "//     public virtual void Withdraw(decimal amount)\n",
    "//     {\n",
    "//         Balance -= amount;  // Уменьшаем баланс на указанную сумму\n",
    "//     }\n",
    "// }\n",
    "\n",
    "using System;\n",
    "using System.Collections.Generic;\n",
    "\n",
    "class BankAccount // класс банковских счетов\n",
    "{\n",
    "    public decimal Balance { get; set; }\n",
    "    public virtual void Deposit(decimal amount)\n",
    "{\n",
    "    if (amount < 0) throw new ArgumentOutOfRangeException(\"Сумма депозита должна быть положительной.\");\n",
    "    Balance += amount; // Внесение суммы на счет\n",
    "}\n",
    "    public virtual void Withdraw(decimal amount) => Balance -= amount; // снять деньги\n",
    "    public virtual void GetInfo() => Console.WriteLine($\"Balance: {Balance:C}\"); // показать информацию о балансе\n",
    "}\n",
    "\n",
    "class SavingsAccount : BankAccount // класс сберегательный счет\n",
    "{\n",
    "    public decimal InterestRate; // процентная ставка\n",
    "    public override void Deposit(decimal amount) => Balance += amount * (1 + InterestRate); \n",
    "    public override void GetInfo() => Console.WriteLine($\"Баланс сберегательного счета: {Balance:C}, Процентная ставка: {InterestRate:P}\"); \n",
    "}\n",
    "\n",
    "class CheckingAccount : BankAccount // класс проверки акк счет\n",
    "{\n",
    "    public decimal OverdraftLimit; // максимальная сумма овердрафта\n",
    "    public override void Withdraw(decimal amount) => Balance -= (Balance + OverdraftLimit >= amount) ? amount  : 0; \n",
    "    public override void GetInfo() => Console.WriteLine($\"Проверка баланса аккаунта : {Balance:C}, Лимит овердрафта: {OverdraftLimit:C}\");\n",
    "}\n",
    "\n",
    "class InvestmentAccount : BankAccount\n",
    "{\n",
    "    public List<string> Assets; // хранит различные активы в виде строк\n",
    "    public override void GetInfo() => Console.WriteLine($\"Инвест аккаунт: {Balance:C}, Активы: {string.Join(\", \", Assets)}\");\n",
    "}\n",
    "\n",
    "// геттер возвращает текущий обьект основноо счета а сеттер позволяет установить обьект банкаккаунт для этого клиента\n",
    "class Client // новый класс для клиента\n",
    "{\n",
    "    public string Name { get; set; } // имя клиента\n",
    "    public BankAccount GeneralAccount { get; set; } // основной банковский счет\n",
    "    public SavingsAccount Savings { get; set; } // сберегательный счет\n",
    "    public InvestmentAccount Investment { get; set; } // инвестиционный счет\n",
    "\n",
    "    public decimal GetTotalBalance() // метод для получения общего баланса\n",
    "    {\n",
    "        return GeneralAccount.Balance + Savings.Balance + Investment.Balance;\n",
    "    }\n",
    "\n",
    "    public void ShowInfo() // метод для отображения информации о клиенте\n",
    "    {\n",
    "        Console.WriteLine($\"Имя клиента: {Name}\");\n",
    "        GeneralAccount.GetInfo(); // информация о основном счете\n",
    "        Savings.GetInfo(); // информация о сберегательном счете\n",
    "        Investment.GetInfo(); // информация об инвестиционном счете\n",
    "        Console.WriteLine($\"Общий баланс: {GetTotalBalance():C}\\n\"); // общий баланс\n",
    "    }\n",
    "}\n",
    "\n",
    "// Примеры использования\n",
    "var client1 = new Client { Name = \"Иван Иванов\" }; // Создание первого клиента\n",
    "client1.GeneralAccount = new BankAccount { Balance = 500 }; // Основной счет\n",
    "client1.Savings = new SavingsAccount\n",
    "{\n",
    "    Balance = 1000, // Начальный баланс\n",
    "    InterestRate = 0.05m // Процентная ставка 5%\n",
    "};\n",
    "client1.Investment = new InvestmentAccount\n",
    "{\n",
    "    Balance = 3000, // Начальный баланс\n",
    "    Assets = new List<string> { \"Акция A\", \"Облигация B\" } // Активы\n",
    "};\n",
    "\n",
    "// Вывод информации о первом клиенте\n",
    "Console.WriteLine(\"Информация о первом клиенте:\");\n",
    "client1.Savings.Deposit(200); // Внесение денег с учетом процентной ставки\n",
    "client1.ShowInfo(); // Вывод информации о клиенте\n",
    "\n",
    "var client2 = new Client { Name = \"Мария Петрова\" }; // Создание второго клиента\n",
    "client2.GeneralAccount = new BankAccount { Balance = 700 }; // Основной счет\n",
    "client2.Savings = new SavingsAccount\n",
    "{\n",
    "    Balance = 1500, // Начальный баланс\n",
    "    InterestRate = 0.04m // Процентная ставка 4%\n",
    "};\n",
    "client2.Investment = new InvestmentAccount\n",
    "{\n",
    "    Balance = 2500, // Начальный баланс\n",
    "    Assets = new List<string> { \"Облигация C\", \"Акция D\" } // Активы\n",
    "};\n",
    "\n",
    "// Вывод информации о втором клиенте\n",
    "Console.WriteLine(\"Информация о втором клиенте:\");\n",
    "client2.Savings.Deposit(300); // Внесение денег с учетом процентной ставки\n",
    "client2.ShowInfo(); // Вывод информации о клиенте\n"
   ]
  }
 ],
 "metadata": {
  "kernelspec": {
   "display_name": ".NET (C#)",
   "language": "C#",
   "name": ".net-csharp"
  },
  "polyglot_notebook": {
   "kernelInfo": {
    "defaultKernelName": "csharp",
    "items": [
     {
      "aliases": [],
      "languageName": "csharp",
      "name": "csharp"
     }
    ]
   }
  }
 },
 "nbformat": 4,
 "nbformat_minor": 2
}
