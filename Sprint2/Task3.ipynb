{
 "cells": [
  {
   "cell_type": "markdown",
   "metadata": {},
   "source": [
    "<h1 style=\"color:DodgerBlue\">Индивидальный проект</h1>"
   ]
  },
  {
   "cell_type": "markdown",
   "metadata": {},
   "source": [
    "<h2 style=\"color:DodgerBlue\">Название проекта:</h2>\n",
    "\n",
    "----\n",
    "\n",
    "### Вариант задания \n"
   ]
  },
  {
   "cell_type": "markdown",
   "metadata": {},
   "source": [
    "<h2 style=\"color:DodgerBlue\">Описание проекта:</h2>\n",
    "\n",
    "----\n",
    "\n",
    "[ваш текст]\n",
    "\n",
    "#### Дополнительное задание\n",
    "Добавьте к сущестующим классам (базовыму и производным 3-4 атрибута и метода) и реализуйте простое, сложное и множественное наследование"
   ]
  },
  {
   "cell_type": "markdown",
   "metadata": {},
   "source": [
    "<h2 style=\"color:DodgerBlue\">Реализация:</h2>\n",
    "\n",
    "----"
   ]
  },
  {
   "cell_type": "code",
   "execution_count": null,
   "metadata": {
    "dotnet_interactive": {
     "language": "csharp"
    },
    "polyglot_notebook": {
     "kernelName": "csharp"
    }
   },
   "outputs": [
    {
     "name": "stdout",
     "output_type": "stream",
     "text": [
      "Информация о первом клиенте:\n",
      "Имя клиента: Иван Иванов\n",
      "Аккаунт активен.\n",
      "Баланс: ¤500.00\n",
      "Кредит одобрен.\n",
      "Баланс сберегательного счета: ¤1,210.00, Процентная ставка: 5.000%\n",
      "Инвест аккаунт: ¤3,000.00, Активы: Акция A, Облигация B\n",
      "Общий баланс: ¤4,710.00\n",
      "\n",
      "Информация о втором клиенте:\n",
      "Имя клиента: Мария Петрова\n",
      "Аккаунт заблокирован.\n",
      "Баланс: ¤700.00\n",
      "Кредит не одобрен.\n",
      "Баланс сберегательного счета: ¤1,812.00, Процентная ставка: 4.000%\n",
      "Инвест аккаунт: ¤2,500.00, Активы: Облигация C, Акция D\n",
      "Общий баланс: ¤5,012.00\n",
      "\n"
     ]
    }
   ],
   "source": [
    "using System;\n",
    "using System.Collections.Generic;\n",
    "\n",
    "// Базовый класс для аккаунтов\n",
    "class Account // класс аккаунт\n",
    "{\n",
    "    public bool IsBlocked { get; set; } // свойство для блокировки аккаунта\n",
    "\n",
    "    public virtual void GetInfo()\n",
    "    {\n",
    "        Console.WriteLine(IsBlocked ? \"Аккаунт заблокирован.\" : \"Аккаунт активен.\"); // вывод информации о блокировке\n",
    "    }\n",
    "}\n",
    "\n",
    "// Интерфейс для проверки кредита\n",
    "interface ICreditCheck // интерфейс проверки кредита\n",
    "{\n",
    "    bool IsApproved { get; set; } // свойство для одобрения кредита\n",
    "    void CheckCredit(); // метод для проверки кредита\n",
    "}\n",
    "\n",
    "// Класс банковского счета, реализующий интерфейс ICreditCheck\n",
    "class BankAccount : Account, ICreditCheck // класс банковских счетов с интерфейсом ICreditCheck\n",
    "{\n",
    "    public decimal Balance { get; set; }\n",
    "    public bool IsApproved { get; set; } // реализация свойства интерфейса\n",
    "\n",
    "    public virtual void Deposit(decimal amount)\n",
    "    {\n",
    "        if (amount < 0) throw new ArgumentOutOfRangeException(\"Сумма депозита должна быть положительной.\");\n",
    "        Balance += amount; // Внесение суммы на счет\n",
    "    }\n",
    "\n",
    "    public virtual void Withdraw(decimal amount) \n",
    "    {\n",
    "        if (IsBlocked) throw new InvalidOperationException(\"Невозможно снять деньги: аккаунт заблокирован.\"); // проверка блокировки\n",
    "        Balance -= amount; // снять деньги\n",
    "    }\n",
    "\n",
    "    public override void GetInfo() // переопределенный метод GetInfo\n",
    "    {\n",
    "        base.GetInfo(); // вывод информации о блокировке\n",
    "        Console.WriteLine($\"Баланс: {Balance:C}\"); // показать информацию о балансе\n",
    "        CheckCredit(); // проверить кредит\n",
    "    }\n",
    "\n",
    "    public void CheckCredit() // реализация метода интерфейса\n",
    "    {\n",
    "        Console.WriteLine(IsApproved ? \"Кредит одобрен.\" : \"Кредит не одобрен.\"); // вывод информации о кредите\n",
    "    }\n",
    "}\n",
    "\n",
    "class SavingsAccount : BankAccount // класс сберегательный счет\n",
    "{\n",
    "    public decimal InterestRate; // процентная ставка\n",
    "    public override void Deposit(decimal amount) => Balance += amount * (1 + InterestRate);\n",
    "    public override void GetInfo() => Console.WriteLine($\"Баланс сберегательного счета: {Balance:C}, Процентная ставка: {InterestRate:P}\");\n",
    "}\n",
    "\n",
    "class CheckingAccount : BankAccount // класс проверки акк счет\n",
    "{\n",
    "    public decimal OverdraftLimit; // максимальная сумма овердрафта\n",
    "    public override void Withdraw(decimal amount) \n",
    "    {\n",
    "        if (IsBlocked) throw new InvalidOperationException(\"Невозможно снять деньги: аккаунт заблокирован.\"); // проверка блокировки\n",
    "        Balance -= (Balance + OverdraftLimit >= amount) ? amount : 0; \n",
    "    }\n",
    "\n",
    "    public override void GetInfo() => Console.WriteLine($\"Проверка баланса аккаунта : {Balance:C}, Лимит овердрафта: {OverdraftLimit:C}\");\n",
    "}\n",
    "\n",
    "class InvestmentAccount : BankAccount\n",
    "{\n",
    "    public List<string> Assets; // хранит различные активы в виде строк\n",
    "    public override void GetInfo() => Console.WriteLine($\"Инвест аккаунт: {Balance:C}, Активы: {string.Join(\", \", Assets)}\");\n",
    "}\n",
    "\n",
    "// класс клиента\n",
    "class Client \n",
    "{\n",
    "    public string Name { get; set; } // имя клиента\n",
    "    public BankAccount GeneralAccount { get; set; } // основной банковский счет\n",
    "    public SavingsAccount Savings { get; set; } // сберегательный счет\n",
    "    public InvestmentAccount Investment { get; set; } // инвестиционный счет\n",
    "\n",
    "    public decimal GetTotalBalance() // метод для получения общего баланса\n",
    "    {\n",
    "        return GeneralAccount.Balance + Savings.Balance + Investment.Balance;\n",
    "    }\n",
    "\n",
    "    public void ShowInfo() // метод для отображения информации о клиенте\n",
    "    {\n",
    "        Console.WriteLine($\"Имя клиента: {Name}\");\n",
    "        GeneralAccount.GetInfo(); // информация о основном счете\n",
    "        Savings.GetInfo(); // информация о сберегательном счете\n",
    "        Investment.GetInfo(); // информация об инвестиционном счете\n",
    "        Console.WriteLine($\"Общий баланс: {GetTotalBalance():C}\\n\"); // общий баланс\n",
    "    }\n",
    "}\n",
    "\n",
    "// Примеры использования\n",
    "var client1 = new Client { Name = \"Иван Иванов\" }; // Создание первого клиента\n",
    "client1.GeneralAccount = new BankAccount { Balance = 500, IsBlocked = false, IsApproved = true }; // Основной счет\n",
    "client1.Savings = new SavingsAccount\n",
    "{\n",
    "    Balance = 1000, // Начальный баланс\n",
    "    InterestRate = 0.05m // Процентная ставка 5%\n",
    "};\n",
    "client1.Investment = new InvestmentAccount\n",
    "{\n",
    "    Balance = 3000, // Начальный баланс\n",
    "    Assets = new List<string> { \"Акция A\", \"Облигация B\" } // Активы\n",
    "};\n",
    "\n",
    "// Вывод информации о первом клиенте\n",
    "Console.WriteLine(\"Информация о первом клиенте:\");\n",
    "client1.Savings.Deposit(200); // Внесение денег с учетом процентной ставки\n",
    "client1.ShowInfo(); // Вывод информации о клиенте\n",
    "\n",
    "var client2 = new Client { Name = \"Мария Петрова\" }; // Создание второго клиента\n",
    "client2.GeneralAccount = new BankAccount { Balance = 700, IsBlocked = true, IsApproved = false }; // Основной счет (заблокирован)\n",
    "client2.Savings = new SavingsAccount\n",
    "{\n",
    "    Balance = 1500, // Начальный баланс\n",
    "    InterestRate = 0.04m // Процентная ставка 4%\n",
    "};\n",
    "client2.Investment = new InvestmentAccount\n",
    "{\n",
    "    Balance = 2500, // Начальный баланс\n",
    "    Assets = new List<string> { \"Облигация C\", \"Акция D\" } // Активы\n",
    "};\n",
    "\n",
    "// Вывод информации о втором клиенте\n",
    "Console.WriteLine(\"Информация о втором клиенте:\");\n",
    "client2.Savings.Deposit(300); // Внесение денег с учетом процентной ставки\n",
    "client2.ShowInfo(); // Вывод информации о клиенте\n"
   ]
  }
 ],
 "metadata": {
  "kernelspec": {
   "display_name": ".NET (C#)",
   "language": "C#",
   "name": ".net-csharp"
  },
  "polyglot_notebook": {
   "kernelInfo": {
    "defaultKernelName": "csharp",
    "items": [
     {
      "aliases": [],
      "languageName": "csharp",
      "name": "csharp"
     }
    ]
   }
  }
 },
 "nbformat": 4,
 "nbformat_minor": 2
}
